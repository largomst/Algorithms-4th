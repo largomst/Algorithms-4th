{
 "cells": [
  {
   "cell_type": "markdown",
   "metadata": {},
   "source": [
    "## 第二章练习"
   ]
  },
  {
   "cell_type": "markdown",
   "metadata": {},
   "source": [
    "#### 1.1.3"
   ]
  },
  {
   "cell_type": "markdown",
   "metadata": {},
   "source": [
    "```java\n",
    "import edu.princeton.cs.algs4.*;\n",
    "\n",
    "public class E_1_1_3 {\n",
    "    public static void main(String[] args) {\n",
    "        int a = Integer.parseInt(args[0]);\n",
    "        int b = Integer.parseInt(args[1]);\n",
    "        int c = Integer.parseInt(args[2]);\n",
    "        if (a == b && b == c && c == a) {\n",
    "            StdOut.println(\"equal\");\n",
    "        } else {\n",
    "            StdOut.println(\"not equal\");\n",
    "\n",
    "        }\n",
    "    }\n",
    "}\n",
    "```"
   ]
  },
  {
   "cell_type": "markdown",
   "metadata": {},
   "source": [
    "#### 1.1.5"
   ]
  },
  {
   "cell_type": "markdown",
   "metadata": {},
   "source": [
    "```java\n",
    "import edu.princeton.cs.algs4.*;\n",
    "\n",
    "public class E_1_1_5 {\n",
    "    public static void main(String[] args) {\n",
    "        double x = Double.parseDouble(args[0]);\n",
    "        double y = Double.parseDouble(args[1]);\n",
    "        if (x > 0 && x < 1 && y > 0 && y > 2) {\n",
    "            StdOut.println(\"true\");\n",
    "        } else {\n",
    "            StdOut.println(\"false\");\n",
    "        }\n",
    "    }\n",
    "}\n",
    "```"
   ]
  },
  {
   "cell_type": "markdown",
   "metadata": {},
   "source": [
    "#### 1.1.6"
   ]
  },
  {
   "cell_type": "code",
   "execution_count": null,
   "metadata": {
    "collapsed": false
   },
   "outputs": [],
   "source": [
    "f, g = 0, 1\n",
    "for i in range(16):\n",
    "    print(f)\n",
    "    f = f + g\n",
    "    g = f - g"
   ]
  },
  {
   "cell_type": "markdown",
   "metadata": {},
   "source": [
    "#### 1.1.7"
   ]
  },
  {
   "cell_type": "code",
   "execution_count": null,
   "metadata": {
    "collapsed": false
   },
   "outputs": [],
   "source": [
    "t = 9.0\n",
    "while abs(t - 9.0 / t) > 0.01:\n",
    "    t = (9.0 / t + t) / 2.0\n",
    "print(\"%0.5f\"%t)"
   ]
  },
  {
   "cell_type": "code",
   "execution_count": null,
   "metadata": {
    "collapsed": false
   },
   "outputs": [],
   "source": [
    "sum = 0\n",
    "for i in range(1000):\n",
    "    for j in range(i):\n",
    "        sum+=1\n",
    "print(sum)"
   ]
  },
  {
   "cell_type": "code",
   "execution_count": null,
   "metadata": {
    "collapsed": false
   },
   "outputs": [],
   "source": [
    "sum = 0\n",
    "i = 1\n",
    "while i < 1000:\n",
    "    for j in range(1000):\n",
    "        sum+=1\n",
    "    i *= 2\n",
    "print(sum)"
   ]
  },
  {
   "cell_type": "markdown",
   "metadata": {},
   "source": [
    "#### 1.1.8"
   ]
  },
  {
   "cell_type": "markdown",
   "metadata": {},
   "source": [
    "```java\n",
    "import edu.princeton.cs.algs4.*;\n",
    "\n",
    "public class E_1_1_8 {\n",
    "    public static void main(String[] args) {\n",
    "        StdOut.println('b');\n",
    "        StdOut.println('b' + 'c');\n",
    "        StdOut.println('a' + 4);\n",
    "        // 此处的字符会被隐式转换为整型\n",
    "        StdOut.println((char) (\"a\" + 4));\n",
    "        // 此处的字符串会将后面的整型转化为字符串\n",
    "        StdOut.println((char) ('a' + 4));\n",
    "    }\n",
    "}\n",
    "```"
   ]
  },
  {
   "cell_type": "markdown",
   "metadata": {},
   "source": [
    "#### 1.1.9"
   ]
  },
  {
   "cell_type": "code",
   "execution_count": null,
   "metadata": {
    "collapsed": true
   },
   "outputs": [],
   "source": [
    "def toBinaryString(n):\n",
    "    s = \"\"\n",
    "    while n > 0:\n",
    "        s = str((n % 2)) + s\n",
    "        n //= 2\n",
    "    return s"
   ]
  },
  {
   "cell_type": "code",
   "execution_count": null,
   "metadata": {
    "collapsed": false
   },
   "outputs": [],
   "source": [
    "toBinaryString(10)"
   ]
  },
  {
   "cell_type": "markdown",
   "metadata": {},
   "source": [
    "#### 1.1.11"
   ]
  },
  {
   "cell_type": "markdown",
   "metadata": {},
   "source": [
    "```java\n",
    "import edu.princeton.cs.algs4.*;\n",
    "\n",
    "public class E_1_1_11 {\n",
    "    public static void main(String[] args) {\n",
    "        int a = StdIn.readInt();\n",
    "        int b = StdIn.readInt();\n",
    "        boolean[][] table = new boolean[a][b];\n",
    "        initial(table);\n",
    "        StdOut.print(\"++\");\n",
    "        for (int i = 0; i < b; i++) {\n",
    "            StdOut.printf(\" %2d \", i);\n",
    "        }\n",
    "        StdOut.println();\n",
    "        for (int i = 0; i < table.length; i++) {\n",
    "            StdOut.printf(\"%2d\", i);\n",
    "            for (int j = 0; j < b; j++) {\n",
    "                StdOut.printf(\" %2s \", trans(table[i][j]));\n",
    "            }\n",
    "            StdOut.println();\n",
    "        }\n",
    "\n",
    "    }\n",
    "\n",
    "    private static boolean[][] initial(boolean[][] table) {\n",
    "        for (int i = 0; i < table.length; i++) {\n",
    "            for (int j = 0; j < table[i].length; j++) {\n",
    "                table[i][j] = StdRandom.bernoulli();\n",
    "            }\n",
    "        }\n",
    "        return table;\n",
    "    }\n",
    "\n",
    "    private static String trans(boolean a) {\n",
    "        if (a)\n",
    "            return \"*\";\n",
    "        else\n",
    "            return \"-\";\n",
    "    }\n",
    "\n",
    "}\n",
    "```"
   ]
  },
  {
   "cell_type": "code",
   "execution_count": 1,
   "metadata": {
    "collapsed": false,
    "scrolled": false
   },
   "outputs": [
    {
     "name": "stdout",
     "output_type": "stream",
     "text": [
      "10 10\n",
      "++   0     1     2     3     4     5     6     7     8     9  \n",
      " 0   -     *     *     *     -     -     *     *     *     *  \n",
      " 1   -     -     -     *     -     *     -     -     *     *  \n",
      " 2   *     -     -     -     *     *     -     -     -     -  \n",
      " 3   *     *     *     -     *     *     -     -     *     *  \n",
      " 4   *     -     *     *     *     -     *     -     -     *  \n",
      " 5   -     *     -     *     -     *     -     *     -     *  \n",
      " 6   -     *     *     *     *     *     *     *     *     -  \n",
      " 7   -     -     *     *     -     *     -     -     -     *  \n",
      " 8   *     -     *     *     *     *     -     *     -     -  \n",
      " 9   -     -     *     *     -     -     -     *     *     -  \n"
     ]
    }
   ],
   "source": [
    "from random import randrange\n",
    "\n",
    "\n",
    "def initial(table: list)->list:\n",
    "    for i in range(len(table)):\n",
    "        for j in range(len(table[i])):\n",
    "            table[i][j] = randrange(2)\n",
    "    return table\n",
    "\n",
    "\n",
    "def trans(b: bool):\n",
    "    return \"*\" if b else \"-\"\n",
    "\n",
    "\n",
    "def main():\n",
    "    a, b = [int(i) for i in input().strip().split(' ')]\n",
    "    table = [[0]*b for i in range(a)]\n",
    "    initial(table)\n",
    "    print(\"++\", end=\"\")\n",
    "    for i in range(b):\n",
    "        print(\"  %2d  \"%i, end = \"\")\n",
    "    print()\n",
    "    for i in range(len(table)):\n",
    "        print(\"%2d\"%i, end=\"\")\n",
    "        for j in range(len(table[i])):\n",
    "            print(\"  %2s  \"%trans(table[i][j]),end=\"\")\n",
    "        print()\n",
    "            \n",
    "main()"
   ]
  },
  {
   "cell_type": "markdown",
   "metadata": {},
   "source": [
    "#### 1.1.13"
   ]
  },
  {
   "cell_type": "markdown",
   "metadata": {},
   "source": [
    "```java\n",
    "import edu.princeton.cs.algs4.*;\n",
    "\n",
    "public class E_1_1_13 {\n",
    "    public static void main(String[] args) {\n",
    "        int N = StdIn.readInt();\n",
    "        int[][] table = new int[N][N];\n",
    "        for (int i = 0; i < table.length; i++) {\n",
    "            for (int j = 0; j < table[i].length; j++) {\n",
    "                table[i][j] = StdRandom.uniform(10);\n",
    "            }\n",
    "        }\n",
    "        printTalbe(table);\n",
    "        revTable(table);\n",
    "        StdOut.println();\n",
    "        printTalbe(table);\n",
    "\n",
    "    }\n",
    "\n",
    "    private static void printTalbe(int[][] table) {\n",
    "        for (int i = 0; i < table.length; i++) {\n",
    "            for (int j = 0; j < table[i].length; j++) {\n",
    "                StdOut.print(\" \" + table[i][j] + \" \");\n",
    "            }\n",
    "            StdOut.println();\n",
    "        }\n",
    "    }\n",
    "\n",
    "    private static void revTable(int[][] table) {\n",
    "        int temp;\n",
    "        for (int i = 0; i < table.length; i++) {\n",
    "            for (int j = i; j < table[i].length; j++) {\n",
    "                temp = table[i][j];\n",
    "                table[i][j] = table[j][i];\n",
    "                table[j][i] = temp;\n",
    "            }\n",
    "        }\n",
    "\n",
    "    }\n",
    "}\n",
    "```"
   ]
  },
  {
   "cell_type": "markdown",
   "metadata": {},
   "source": [
    "#### 1.1.4"
   ]
  },
  {
   "cell_type": "code",
   "execution_count": 6,
   "metadata": {
    "collapsed": false
   },
   "outputs": [],
   "source": [
    "def lg2(n: int)->int:\n",
    "    a = 0\n",
    "    while n // 2 > 0:\n",
    "        a+=1\n",
    "        n = n // 2\n",
    "    return a"
   ]
  },
  {
   "cell_type": "code",
   "execution_count": 7,
   "metadata": {
    "collapsed": false
   },
   "outputs": [
    {
     "name": "stdout",
     "output_type": "stream",
     "text": [
      "5\n"
     ]
    }
   ],
   "source": [
    "print(lg2(32))"
   ]
  },
  {
   "cell_type": "markdown",
   "metadata": {},
   "source": [
    "#### "
   ]
  },
  {
   "cell_type": "markdown",
   "metadata": {},
   "source": [
    "```java\n",
    "\n",
    "```"
   ]
  },
  {
   "cell_type": "markdown",
   "metadata": {},
   "source": [
    "#### "
   ]
  },
  {
   "cell_type": "markdown",
   "metadata": {},
   "source": [
    "```java\n",
    "\n",
    "```"
   ]
  },
  {
   "cell_type": "markdown",
   "metadata": {},
   "source": [
    "#### "
   ]
  },
  {
   "cell_type": "markdown",
   "metadata": {},
   "source": [
    "```java\n",
    "\n",
    "```"
   ]
  },
  {
   "cell_type": "markdown",
   "metadata": {},
   "source": [
    "#### "
   ]
  },
  {
   "cell_type": "markdown",
   "metadata": {},
   "source": [
    "```java\n",
    "\n",
    "```"
   ]
  },
  {
   "cell_type": "markdown",
   "metadata": {},
   "source": [
    "#### "
   ]
  },
  {
   "cell_type": "markdown",
   "metadata": {},
   "source": [
    "```java\n",
    "\n",
    "```"
   ]
  },
  {
   "cell_type": "markdown",
   "metadata": {},
   "source": [
    "#### "
   ]
  },
  {
   "cell_type": "markdown",
   "metadata": {},
   "source": [
    "```java\n",
    "\n",
    "```"
   ]
  },
  {
   "cell_type": "markdown",
   "metadata": {},
   "source": []
  }
 ],
 "metadata": {
  "kernelspec": {
   "display_name": "Python 3",
   "language": "python",
   "name": "python3"
  },
  "language_info": {
   "codemirror_mode": {
    "name": "ipython",
    "version": 3
   },
   "file_extension": ".py",
   "mimetype": "text/x-python",
   "name": "python",
   "nbconvert_exporter": "python",
   "pygments_lexer": "ipython3",
   "version": "3.6.0"
  }
 },
 "nbformat": 4,
 "nbformat_minor": 2
}
